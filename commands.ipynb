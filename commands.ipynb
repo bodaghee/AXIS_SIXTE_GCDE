{
 "cells": [
  {
   "cell_type": "markdown",
   "metadata": {},
   "source": [
    "# Simulated Observation of a Galactic Center Deep Exposure with AXIS"
   ]
  },
  {
   "cell_type": "markdown",
   "metadata": {},
   "source": [
    "## Introduction\n",
    "\n",
    "### Objective\n",
    "\n",
    "Using the `SIXTE` software package, we will simulate an AXIS pointing that reproduces a _Chandra_ observation of the Galactic Center (GC):\n",
    "\n",
    "ObsID = 3392\n",
    "\n",
    "Exp. = 167 ks\n",
    "\n",
    "R.A. = 266.417 = 17:45:40\n",
    "\n",
    "Dec. = -29.008 = -29:00:38 \n",
    "\n",
    "Roll = 75.30569"
   ]
  },
  {
   "cell_type": "markdown",
   "metadata": {},
   "source": [
    "### Required Software\n",
    "\n",
    "It is assumed that the software listed below are installed and initialized in a terminal:\n",
    "\n",
    "* `HEAsoft` (6.34)\n",
    "\n",
    "    https://heasarc.gsfc.nasa.gov/docs/software/lheasoft\n",
    "\n",
    "\n",
    "* `SIXTE` and `SIMPUT` (3.0.5 and 2.6.3, respectively)\n",
    "\n",
    "    https://www.sternwarte.uni-erlangen.de/sixte/installation-steps\n",
    "\n",
    "\n",
    "* AXIS-specific `SIXTE` files (3.1.0):\n",
    "\n",
    "    https://www.sternwarte.uni-erlangen.de/sixte/instruments\n",
    "\n",
    "* `CIAO` (4.17)\n",
    "\n",
    "    https://cxc.cfa.harvard.edu/ciao\n",
    "\n",
    "    (which will be used to create a comparison image of real _Chandra_ data, and to exclude point sources from the publicly-available diffuse image.)"
   ]
  },
  {
   "cell_type": "markdown",
   "metadata": {},
   "source": [
    "### General pipeline of a `SIXTE` simulation:\n",
    "\n",
    "\n",
    "1. CREATE XSPEC MODELS\n",
    "\n",
    "    Run `Xspec` to make a spectral model for the diffuse emission, as well as a typical model for all point sources, or one for each source.\n",
    "\n",
    "2. CREATE SIMPUT FILES\n",
    "\n",
    "    Run `simputfile` to generate a `SIMPUT` file for each source based on `Xspec` files from Step 1.\n",
    "\n",
    "3. MERGE SIMPUT FILES\n",
    "\n",
    "    Run `simputmerge` to merge the `SIMPUT` files of all sources from Step 2.\n",
    "\n",
    "4. SIMULATE THE EVENTS FILE\n",
    "\n",
    "    Run `sixtesim` to generate a simulated events file from the merged `SIMPUT` file from Step 3.\n",
    "\n",
    "5. GENERATE THE IMAGE FILE\n",
    "\n",
    "    Run `imgev` to generate an image file from the simulated events file from Step 4.\n",
    "\n",
    "6. GENERATE THE EXPOSURE MAP\n",
    "\n",
    "    Run `exposure_map` to generate an exposure file."
   ]
  },
  {
   "cell_type": "markdown",
   "metadata": {},
   "source": [
    "## 1. CREATE XSPEC MODELS"
   ]
  },
  {
   "cell_type": "markdown",
   "metadata": {},
   "source": [
    "### 1.1. POINT SOURCES\n",
    "\n",
    "The point source catalog is that of [Muno et al. (2009)](https://ui.adsabs.harvard.edu/abs/2009ApJS..181..110M/abstract):\n",
    "\n",
    "https://ui.adsabs.harvard.edu/abs/2009ApJS..181..110M/abstract\n",
    "\n",
    "https://cdsarc.cds.unistra.fr/viz-bin/cat/J/ApJS/181/110\n",
    "\n",
    "In the [Vizier page](https://cdsarc.cds.unistra.fr/viz-bin/cat/J/ApJS/181/110) of the [Muno et al. (2009)](https://ui.adsabs.harvard.edu/abs/2009ApJS..181..110M/abstract) catalog, restrict the search to a circle of $r = 17^{\\prime}$ centered at the position given in the Objective. This is the minimum radius that fully encompasses all sources in the $24^{\\prime}$ AXIS FoV regardless of the selected roll angle. Even though this includes a number of superfluous sources that land outside the AXIS FoV, they will be ignored by the `SIXTE` simulation software. \n",
    "\n",
    "Select the columns `CXOGC`, `RAJ2000`, `DEJ2000`, `Sflux`, and `Hflux`, then save the data in \"ASCII text/plain\" format as `src_list.txt`.\n",
    "\n",
    "There should be 6,469 sources. Erase most of the irrelevant header rows and comment the column headers/units so that `src_list.txt` looks like this:\n",
    "\n",
    "<div>\n",
    "<img src=\"img/src_list.png\" width=\"800\"/>\n",
    "</div>\n",
    "\n",
    "\n",
    "Some of the flux values are negative because these are background-subtracted fluxes from a model fit to the data, which may have no counts detected above or below 2 keV due to the source type (soft vs. hard emitters) and line-of-sight absorption.\n",
    "\n",
    "We want the simulation to assume a broadband flux (0.5-8 keV). However, directly summing the soft and hard-band fluxes leads to a problem: a handful of sources (e.g., CXOGC 174513.6-290214) end up with a broadband flux of 0.\n",
    "\n",
    "One option is to add the soft and hard flux values in quadrature.\n",
    "\n",
    "Instead, we will simply assume that negative flux values are 0, i.e., equivalent to the background, before summing.\n",
    "\n",
    "Consider the following comments by [Muno et al. (2009)](https://ui.adsabs.harvard.edu/abs/2009ApJS..181..110M/abstract):\n",
    "\n",
    "Section 2.4:\n",
    "    \n",
    ">_\"We are sensitive to 4e32 erg/s (=5.2e-14 erg/cm2/s in 0.5-8 keV, assuming D=8kpc) at 90% conf over 1 deg2, and 1e32 (=1.3e-14 erg/cm2/s) over 0.1 deg2.\"_\n",
    "\n",
    "Section 3.1: \n",
    "\n",
    ">_\"We have assumed a distance of 8 kpc and 6E22 /cm2 of absorption.\"_\n",
    "\n",
    ">_\"Photon fluxes can be converted to energy fluxes according to 1 ph/cm2/s = 8.7E-9 erg/cm2/s (0.5-8 keV).\"_\n",
    "\n",
    "Therefore, we create a typical `Xspec` model that will be used for all point sources.\n",
    "\n",
    "This will be an absorbed power law whose parameters are:\n",
    "\n",
    "* $N_{\\rm H} = 6 \\times 10^{22}$; equal to the expected line-of-sight value.\n",
    "\n",
    "* $\\Gamma = 1.5$; typical value.\n",
    "\n",
    "* Norm. = $10^{-5}$; adjusted for each source according to its cataloged flux value.\n",
    "\n",
    "Edit and paste the following `Xspec` commands to a file called `sed_point_cmd.xcm`:"
   ]
  },
  {
   "cell_type": "code",
   "execution_count": null,
   "metadata": {
    "vscode": {
     "languageId": "shellscript"
    }
   },
   "outputs": [],
   "source": [
    "abund wilm\n",
    "xsect vern\n",
    "query y\n",
    "set par {6 & 1.5 & 1E-5}\n",
    "model tbabs*pow & $par\n",
    "save mo sed_point.xcm\n",
    "exit"
   ]
  },
  {
   "cell_type": "markdown",
   "metadata": {},
   "source": [
    "In a `HEAsoft`-initialized terminal, call `Xspec` to create the model file for the point emission from the command file `sed_point_cmd.xcm`:"
   ]
  },
  {
   "cell_type": "code",
   "execution_count": null,
   "metadata": {
    "vscode": {
     "languageId": "shellscript"
    }
   },
   "outputs": [],
   "source": [
    "xspec - sed_point_cmd.xcm"
   ]
  },
  {
   "cell_type": "markdown",
   "metadata": {},
   "source": [
    "This creates an `Xspec` model file for the point sources (`sed_point.xcm`)."
   ]
  },
  {
   "cell_type": "markdown",
   "metadata": {},
   "source": [
    "#### ALTERNATIVE: Using an Existing SIMPUT File\n",
    "\n",
    "An alternative to using a single model for all point sources is to use different models based on the source hardness ratios. \n",
    "\n",
    "In fact, there exists a ready-made `SIMPUT` file of the GC (`bremms.simput`) that offers this enhanced feature:\n",
    "\n",
    "https://www.sternwarte.uni-erlangen.de/sixte/example-source-files/\n",
    "\n",
    "This `SIMPUT` file was merged with that of the diffuse emission (`diffuse.simput`) in order to create the simulated AXIS RGB image shown in the Appendix."
   ]
  },
  {
   "cell_type": "markdown",
   "metadata": {},
   "source": [
    "### 1.2. DIFFUSE EMISSION\n",
    "\n",
    "Unless the diffuse emission is uniform, then an image or model describing the spatial distribution of this emission is required. \n",
    "\n",
    "The public _Chandra_ image of Sagittarius A* by Baganoff et al. (2009) will serve this purpose:\n",
    "\n",
    "https://chandra.harvard.edu/photo/openFITS/xray_data.html\n",
    "\n",
    "<div>\n",
    "<img src=\"img/chandra_sgra.jpg\" width=\"800\"/>\n",
    "</div>\n",
    "\n",
    "There are 3 files each representing a different non-overlapping energy band (equivalent to RGB for soft X-rays):\n",
    "\n",
    "* `sgra_200-3300_eV.fits`\n",
    "\n",
    "* `sgra_3300-4700_eV.fits`\n",
    "\n",
    "* `sgra_4700-8000_eV.fits`\n",
    "\n",
    "They need to be merged into a single-band image (`sgra_200-8000_eV.fits`) using the `HEAsoft` tool `fimgmerge`.\n",
    "\n",
    "Edit and paste the following commands into a `HEAsoft`-initialized terminal:"
   ]
  },
  {
   "cell_type": "code",
   "execution_count": null,
   "metadata": {
    "vscode": {
     "languageId": "shellscript"
    }
   },
   "outputs": [],
   "source": [
    "export file_1='sgra_200-3300_eV.fits'\n",
    "export file_2='sgra_3300-4700_eV.fits'\n",
    "export file_3='sgra_4700-8000_eV.fits'\n",
    "export file_out='sgra_200-8000_eV.fits'\n",
    "\n",
    "fimgmerge \\\n",
    "    infile=${file_1} \\\n",
    "    list=${file_2},${file_3} \\\n",
    "    outfile=${file_out} \\\n",
    "    xoffset=0,0 \\\n",
    "    yoffset=0,0 \\\n",
    "    clobber=y "
   ]
  },
  {
   "cell_type": "markdown",
   "metadata": {},
   "source": [
    "There should now be a broad-band _Chandra_ image (`sgra_200-8000_eV.fits`).\n",
    "\n",
    "In addition to the diffuse emission that interests us, this _Chandra_ image contains bright point sources whose presence will affect our model of the diffuse flux distribution. \n",
    "\n",
    "To obtain a suitable image for the diffuse emission, we need to remove the point sources. Sources can be removed with the `CIAO` tool `dmfilth` which requires a stacked list of regions representing the point sources in physical detector coordinates specific to _Chandra_. \n",
    "\n",
    "So the point source catalog from the previous subsection (`src_list.txt`) will have to be transformed into a `DS9` region file with physical detector coordinates. \n",
    "\n",
    "First, we create a standard region file (`src_list_RADEC.reg`) based on equatorial coordinates that define circular regions of 2 $^{\\prime\\prime}$ radius.\n",
    "\n",
    "Edit and run the script `make_region.sh` to create a region file for the point sources:"
   ]
  },
  {
   "cell_type": "code",
   "execution_count": null,
   "metadata": {
    "vscode": {
     "languageId": "shellscript"
    }
   },
   "outputs": [],
   "source": [
    "#!/bin/bash\n",
    "\n",
    "# Input file and starting row\n",
    "src_list=\"src_list.txt\"\n",
    "start_row=\"15\"\n",
    "\n",
    "# Output region file\n",
    "output_file=\"src_list_RADEC.reg\"\n",
    "\n",
    "# Write the header to the output file\n",
    "echo \"# Region file format: DS9 version 4.1\" > \"${output_file}\"\n",
    "echo \"global color=green width=1\" >> \"${output_file}\"\n",
    "echo \"fk5\" >> \"${output_file}\"\n",
    "\n",
    "# Read each row of the source list beginning from start_row\n",
    "tail -n +${start_row} \"${src_list}\" | while IFS=' ' read -r id ra dec soft hard\n",
    "do\n",
    "    # Append each row to the output file\n",
    "    echo \"circle(${ra},${dec},2\\\")\" >> \"${output_file}\"\n",
    "done\n"
   ]
  },
  {
   "cell_type": "markdown",
   "metadata": {},
   "source": [
    "There should now be a region file (`src_list_RADEC.reg`) that looks like:\n",
    "\n",
    "<div>\n",
    "<img src=\"img/src_list_RADEC.png\" width=\"300\"/>\n",
    "</div>"
   ]
  },
  {
   "cell_type": "markdown",
   "metadata": {},
   "source": [
    "Open the diffuse image (`sgra_200-8000_eV.fits`) in `DS9` and load the region file (`src_list_RADEC.reg`):"
   ]
  },
  {
   "cell_type": "code",
   "execution_count": null,
   "metadata": {
    "vscode": {
     "languageId": "shellscript"
    }
   },
   "outputs": [],
   "source": [
    "ds9 sgra_200-8000_eV.fits -region src_list_RADEC.reg &"
   ]
  },
  {
   "cell_type": "markdown",
   "metadata": {},
   "source": [
    "In `DS9`, save the region file in physical coordinates as `src_list_XY.reg`.\n",
    "\n",
    "Open `src_list_XY.reg` with an editor and delete the header rows so that it looks like:\n",
    "\n",
    "<div>\n",
    "<img src=\"img/src_list_XY.png\" width=\"300\"/>\n",
    "</div>"
   ]
  },
  {
   "cell_type": "markdown",
   "metadata": {},
   "source": [
    "In a `CIAO`-initialized terminal, run the `CIAO` tool `DMFILTH` with the `BILINT` method (i.e., bilateral interpolation) which takes an input catalogue of point sources (`src_list_XY.reg`), removes them from the image (`sgra_200-8000_eV.fits`), and outputs a point-source-excluded diffuse image (`sgra_200-8000_eV_diffuse.fits`):"
   ]
  },
  {
   "cell_type": "code",
   "execution_count": null,
   "metadata": {
    "vscode": {
     "languageId": "shellscript"
    }
   },
   "outputs": [],
   "source": [
    "dmfilth \\\n",
    " infile=sgra_200-8000_eV.fits \\\n",
    " outfile=sgra_200-8000_eV_diffuse.fits \\\n",
    " method=BILINT \\\n",
    " srclist=@src_list_XY.reg \\\n",
    " bkglist=\"\""
   ]
  },
  {
   "cell_type": "markdown",
   "metadata": {},
   "source": [
    "There should now be a diffuse image called `sgra_200-8000_eV_diffuse.fits`.\n",
    "\n",
    "Using the `HEAsoft` tools `fdump` and `ftlist`, check the header and contents to ensure that any keywords from the original file (`sgra_200-8000_eV.fits`) are present in the diffuse image (`sgra_200-8000_eV_diffuse.fits`):"
   ]
  },
  {
   "cell_type": "code",
   "execution_count": null,
   "metadata": {
    "vscode": {
     "languageId": "shellscript"
    }
   },
   "outputs": [],
   "source": [
    "fdump sgra_200-8000_eV.fits head.txt columns=\"\" rows=- clobber=y\n",
    "\n",
    "ftlist infile=sgra_200-8000_eV_diffuse.fits option=I outfile=data.lis colheader=no rownum=no"
   ]
  },
  {
   "cell_type": "markdown",
   "metadata": {},
   "source": [
    "The image below compares the original full-band _Chandra_ image (left panel: `sgra_200-8000_eV.fits`) with the diffuse image (right panel: `sgra_200-8000_eV_diffuse.fits`) and shows that the removal of point sources was successful:\n",
    "\n",
    "<div>\n",
    "<img src=\"img/chandra_sgra_original_vs_source_removed.png\"/>\n",
    "</div>"
   ]
  },
  {
   "cell_type": "markdown",
   "metadata": {},
   "source": [
    "Now that we have an image of the diffuse emision, we can create its `Xspec` model. \n",
    "\n",
    "Table 3 of [Muno et al. (2004)](https://ui.adsabs.harvard.edu/abs/2004ApJ...613..326M/abstract) lists parameters for the best-fitting model of the diffuse emission, which we also adopt here, i.e., an absorbed, two-temperature plasma (0.5 and 8 keV) with two Fe lines (6.4 and 6.7 keV).\n",
    "\n",
    "Edit and paste the following `Xspec` commands to a file called `sed_diffuse_cmd.xcm`:"
   ]
  },
  {
   "cell_type": "code",
   "execution_count": null,
   "metadata": {
    "vscode": {
     "languageId": "shellscript"
    }
   },
   "outputs": [],
   "source": [
    "abund wilm\n",
    "xsect vern\n",
    "query y\n",
    "set par {6 & 1 & 1.4E-3 & 8 & 1.4E-3 & 6.4 & 0.04 & 4E-3 & 6.7 & 0.04 & 4E-3}\n",
    "model tbabs*(bbody+bbody+gauss+gauss) & $par\n",
    "flux 2 8\n",
    "save mo sed_diffuse.xcm\n",
    "exit"
   ]
  },
  {
   "cell_type": "markdown",
   "metadata": {},
   "source": [
    "In a `HEAsoft`-initialized terminal, call `Xspec` to create the model file for the diffuse emission from the command file `sed_diffuse_cmd.xcm`:"
   ]
  },
  {
   "cell_type": "code",
   "execution_count": null,
   "metadata": {
    "vscode": {
     "languageId": "shellscript"
    }
   },
   "outputs": [],
   "source": [
    "xspec - sed_diffuse_cmd.xcm"
   ]
  },
  {
   "cell_type": "markdown",
   "metadata": {},
   "source": [
    "This creates an `Xspec` model file for the diffuse emission (`sed_diffuse.xcm`).\n",
    "\n",
    "The output of the `Xspec` command `flux 2 8` is:"
   ]
  },
  {
   "cell_type": "code",
   "execution_count": null,
   "metadata": {
    "vscode": {
     "languageId": "shellscript"
    }
   },
   "outputs": [],
   "source": [
    " Model Flux  0.017389 photons (1.4448e-10 ergs/cm^2/s) range (2.0000 - 8.0000 keV)"
   ]
  },
  {
   "cell_type": "markdown",
   "metadata": {},
   "source": [
    "According to Table 3 of [Muno et al. (2004)](https://ui.adsabs.harvard.edu/abs/2004ApJ...613..326M/abstract), the average of the summed (soft+hard) observed fluxes in 2-8 keV is $2.4 \\times 10^{-13}$ erg cm $^{-2}$ s $^{-1}$ arcmin $^{-2}$. \n",
    "\n",
    "For the $24^{\\prime}$-wide AXIS FoV, this converts to a flux of $1.4 \\times 10^{-10}$ erg cm $^{-2}$ s $^{-1}$.\n",
    "\n",
    "Therefore, the normalization parameters of the different model components were adjusted until the `Xspec` output flux in 2-8 keV equaled this value."
   ]
  },
  {
   "cell_type": "markdown",
   "metadata": {},
   "source": [
    "## 2. CREATE SIMPUT FILES"
   ]
  },
  {
   "cell_type": "markdown",
   "metadata": {},
   "source": [
    "It is assumed that the `Xspec` model files for point sources and for the diffuse emission were made according to the instructions in Section 1, and that any parameters for these sources are correctly set in `config.py` if using the Python scripts.\n",
    "\n",
    "We need to call the `SIXTE` command `simputfile` in order to create a `SIMPUT` file for each point source, as well as one for the diffuse emission.\n",
    "\n",
    "In a `SIXTE`-initialized terminal, edit and run the script `make_simput_diffuse.sh` to create a `SIMPUT` file for the diffuse source:"
   ]
  },
  {
   "cell_type": "code",
   "execution_count": null,
   "metadata": {
    "vscode": {
     "languageId": "shellscript"
    }
   },
   "outputs": [],
   "source": [
    "#!/bin/bash\n",
    "\n",
    "# Input source list and parameters\n",
    "file_name='diffuse.simput'\n",
    "src_name='diffuse'\n",
    "ra='266.417'\n",
    "dec='-29.008'\n",
    "flux='1.4e-10'\n",
    "elow='0.1'\n",
    "eup='15'\n",
    "nbins='1490'\n",
    "emin='0.5'\n",
    "emax='8'\n",
    "xspec='sed_diffuse.xcm'\n",
    "img='sgra_200-8000_eV_diffuse.fits'\n",
    "\n",
    "# Run the command\n",
    "simputfile \\\n",
    "    Simput=${file_name} \\\n",
    "    Src_Name=${src_name} \\\n",
    "    RA=${ra} \\\n",
    "    Dec=${dec} \\\n",
    "    srcFlux=${flux} \\\n",
    "    Elow=${elow} \\\n",
    "    Eup=${eup} \\\n",
    "    NBins=${nbins} \\\n",
    "    Emin=${emin} \\\n",
    "    Emax=${emax} \\\n",
    "    XSPECFile=${xspec} \\\n",
    "    ImageFile=${img} \\\n",
    "    clobber=yes"
   ]
  },
  {
   "cell_type": "markdown",
   "metadata": {},
   "source": [
    "And edit and run the script `make_simput_point.sh` to create `SIMPUT` files for the point sources in `src_list.txt`:"
   ]
  },
  {
   "cell_type": "code",
   "execution_count": null,
   "metadata": {
    "vscode": {
     "languageId": "shellscript"
    }
   },
   "outputs": [],
   "source": [
    "#!/bin/bash\n",
    "\n",
    "# Input source list and parameters\n",
    "src_list=\"src_list.txt\"\n",
    "start_row=\"15\"\n",
    "xspec=\"sed_point.xcm\"\n",
    "elow=\"0.1\"\n",
    "eup=\"15\"\n",
    "nbins=\"1490\"\n",
    "emin=\"0.5\"\n",
    "emax=\"8\"\n",
    "fluxconv=\"8.7e-9\"\n",
    "\n",
    "# Read file starting from row number \"start_row\"\n",
    "tail -n +${start_row} \"${src_list}\" | while IFS=' ' read -r id ra dec soft hard\n",
    "do\n",
    "    \n",
    "    # Apply clipping: set soft and hard fluxes to 0 if they are less than 0\n",
    "    if (( $(echo \"$soft < 0\" | bc -l) )); then\n",
    "        soft=0\n",
    "    fi\n",
    "\n",
    "    if (( $(echo \"$hard < 0\" | bc -l) )); then\n",
    "        hard=0\n",
    "    fi\n",
    "    \n",
    "    # Calculate total photon flux (flux) as the sum of soft and hard bands\n",
    "    flux=$(echo \"$soft + $hard\" | bc -l)\n",
    "    \n",
    "    # Multiply photon flux by the flux conversion factor to get cgs units\n",
    "    converted_flux=$(echo \"$flux * $fluxconv\" | bc -l)\n",
    "    \n",
    "    # Format output for scientific notation with 3 decimal places\n",
    "    formatted_flux=$(printf \"%1.3e\" $converted_flux)\n",
    "\n",
    "    # Run the command\n",
    "    simputfile \\\n",
    "        Simput=${id}.simput \\\n",
    "        Src_Name=${id} \\\n",
    "        RA=${ra} \\\n",
    "        Dec=${dec} \\\n",
    "        srcFlux=${formatted_flux} \\\n",
    "        Elow=${elow} \\\n",
    "        Eup=${eup} \\\n",
    "        NBins=${nbins} \\\n",
    "        Emin=${emin} \\\n",
    "        Emax=${emax} \\\n",
    "        XSPECFile=${xspec} \\\n",
    "        clobber=yes\n",
    "    \n",
    "done\n"
   ]
  },
  {
   "cell_type": "markdown",
   "metadata": {},
   "source": [
    "There should now be a `SIMPUT` file for the diffuse emission (`diffuse.simput`), and one for each point source (e.g., `174457.4-285622.simput`). "
   ]
  },
  {
   "cell_type": "markdown",
   "metadata": {},
   "source": [
    "## 3. MERGE SIMPUT FILES"
   ]
  },
  {
   "cell_type": "markdown",
   "metadata": {},
   "source": [
    "The `SIMPUT` files made in Section 3 for the diffuse source (`diffuse.simput`) and for the point sources (e.g., `174457.4-285622.simput`) need to be merged into a single file (`GC.simput`) with the `SIXTE` tool `simputmerge`.\n",
    "\n",
    "Edit and run the script `merge_simput.sh` in a `SIXTE`-initialized terminal:"
   ]
  },
  {
   "cell_type": "code",
   "execution_count": null,
   "metadata": {
    "vscode": {
     "languageId": "shellscript"
    }
   },
   "outputs": [],
   "source": [
    "#!/bin/bash\n",
    "\n",
    "# Input list of point sources and starting row\n",
    "src_list=\"src_list.txt\"\n",
    "start_row=\"15\"\n",
    "\n",
    "# Input SIMPUT file of diffuse source\n",
    "diffuse_file='diffuse.simput'\n",
    "\n",
    "# Output SIMPUT file\n",
    "output_file=\"GC.simput\"\n",
    "\n",
    "# Initialize an empty csv_string starting with the diffuse source\n",
    "csv_string=\"${diffuse_file}\"\n",
    "\n",
    "# Read the source list starting from the specified row\n",
    "tail -n +${start_row} \"${src_list}\" | while IFS=' ' read -r id ra dec soft hard\n",
    "do\n",
    "    # Append the current ID with \".simput\" to the csv_string\n",
    "    csv_string=\"${csv_string},${id}.simput\"\n",
    "done\n",
    "\n",
    "# Run the command\n",
    "simputmerge \\\n",
    "    Infiles=${csv_string} \\\n",
    "    Outfile=${output_file} \\\n",
    "    FetchExtensions=yes \\\n",
    "    clobber=yes"
   ]
  },
  {
   "cell_type": "markdown",
   "metadata": {},
   "source": [
    "There should now be a single `SIMPUT` file  (`GC.simput`) that contains the diffuse source and all the point sources:\n",
    "\n",
    "\n",
    "<div>\n",
    "<img src=\"img/GC_simput.png\" width=\"1000\"/>\n",
    "</div>\n",
    "\n",
    "This is the required input file for `SIXTE` to simulate an events file."
   ]
  },
  {
   "cell_type": "markdown",
   "metadata": {},
   "source": [
    "## 4. SIMULATE THE EVENTS FILE"
   ]
  },
  {
   "cell_type": "markdown",
   "metadata": {},
   "source": [
    "### 4.1. ATTITUDE FILE\n",
    "\n",
    "The distance between adjacent detector chips of AXIS is about 40 $^{\\prime\\prime}$. Therefore, a long-exposure image leaves a thick cross pattern through the center of the FoV.\n",
    "\n",
    "To overcome this problem, it is recommended that the telescope perform a dithering pattern. This smears out the gaps between the detector chips, which creates a more esthetically-pleasing image. An added benefit is that it helps reduce systematic errors.\n",
    "\n",
    "The `SIXTE` tool `attgen_dither` will create an attitude file given a pointing direction, a dithering frequency, and an amplitude.\n",
    "\n",
    "Edit and run the script `make_attitude.sh` in a `SIXTE`-initialized terminal:"
   ]
  },
  {
   "cell_type": "code",
   "execution_count": null,
   "metadata": {
    "vscode": {
     "languageId": "shellscript"
    }
   },
   "outputs": [],
   "source": [
    "#!/bin/bash\n",
    "\n",
    "# Input parameters\n",
    "att_file='GC_AXIS_100000_att.fits'\n",
    "amp='0.035'\n",
    "ra='266.417'\n",
    "dec='-29.008'\n",
    "t_exp='100000'\n",
    "\n",
    "# Run the command\n",
    "attgen_dither \\\n",
    "    Attitude=${att_file} \\\n",
    "    Amplitude=${amp} \\\n",
    "    SrcRA=${ra} \\\n",
    "    SrcDec=${dec} \\\n",
    "    Exposure=${t_exp}"
   ]
  },
  {
   "cell_type": "markdown",
   "metadata": {},
   "source": [
    "There should now be an attitude file (`GC_AXIS_100000_att.fits`)."
   ]
  },
  {
   "cell_type": "markdown",
   "metadata": {},
   "source": [
    "### 4.2. EVENTS FILE\n",
    "\n",
    "Having prepared a complete `SIMPUT` file in Section 3 (`GC.simput`), and an attitude file in Section 4.1 (`GC_AXIS_100000_att.fits`), we can now create a simulated events file using the `SIXTE` tool `sixtesim`.\n",
    "\n",
    "Edit and run the script `make_events.sh` in a `SIXTE`-initialized terminal:"
   ]
  },
  {
   "cell_type": "code",
   "execution_count": null,
   "metadata": {
    "vscode": {
     "languageId": "shellscript"
    }
   },
   "outputs": [],
   "source": [
    "#!/bin/bash\n",
    "\n",
    "# Input parameters\n",
    "evt_file='GC_AXIS_100000_evt.fits'\n",
    "xml_file='/Users/arash/astro/heasoft/sixte/share/sixte/instruments/axis/axis_baseline_all_chips.xml'\n",
    "att_file='GC_AXIS_100000_att.fits'\n",
    "roll='75.306'\n",
    "sim_file='GC.simput'\n",
    "t_exp='100000'\n",
    "\n",
    "# Run the command\n",
    "sixtesim \\\n",
    "    EvtFile=${evt_file} \\\n",
    "    XMLFile=${xml_file} \\\n",
    "    Attitude=${att_file} \\\n",
    "    rollangle=${roll} \\\n",
    "    Simput=${sim_file} \\\n",
    "    Exposure=${t_exp} \\\n",
    "    clobber=yes"
   ]
  },
  {
   "cell_type": "markdown",
   "metadata": {},
   "source": [
    "There should now be an events file for each of the four AXIS detector chips: \n",
    "\n",
    "* `chip0_GC_AXIS_100000_evt.fits`\n",
    "\n",
    "* `chip1_GC_AXIS_100000_evt.fits`\n",
    "\n",
    "* `chip2_GC_AXIS_100000_evt.fits`\n",
    "\n",
    "* `chip3_GC_AXIS_100000_evt.fits`\n",
    "\n",
    "Use the `HEAsoft` tool `ftmerge` to combine them into a single file (`GC_AXIS_100000_evt.fits`):"
   ]
  },
  {
   "cell_type": "code",
   "execution_count": null,
   "metadata": {
    "vscode": {
     "languageId": "shellscript"
    }
   },
   "outputs": [],
   "source": [
    "ftmerge \\\n",
    "    chip0_GC_AXIS_100000_evt.fits,chip1_GC_AXIS_100000_evt.fits,chip2_GC_AXIS_100000_evt.fits,chip3_GC_AXIS_100000_evt.fits \\\n",
    "    GC_AXIS_100000_evt.fits clobber=yes"
   ]
  },
  {
   "cell_type": "markdown",
   "metadata": {},
   "source": [
    "There should now be a single events file that combines all four chips (`GC_AXIS_100000_evt.fits`). \n",
    "\n",
    "This is the required input to make an image file as described in Section 5."
   ]
  },
  {
   "cell_type": "markdown",
   "metadata": {},
   "source": [
    "## 5. GENERATE THE IMAGE FILE"
   ]
  },
  {
   "cell_type": "markdown",
   "metadata": {},
   "source": [
    "The simulated events file from Section 5.2 (`GC_AXIS_100000_evt.fits`) can be made into an image file (`GC_AXIS_100000_img.fits`) using the SIXTE tool `imgev`.\n",
    "\n",
    "Edit and run the script `make_image.sh` in a `SIXTE`-initialized terminal:"
   ]
  },
  {
   "cell_type": "code",
   "execution_count": null,
   "metadata": {
    "vscode": {
     "languageId": "shellscript"
    }
   },
   "outputs": [],
   "source": [
    "#!/bin/bash\n",
    "\n",
    "# Input parameters\n",
    "evt_file='GC_AXIS_100000_evt.fits'\n",
    "img_file='GC_AXIS_100000_img.fits'\n",
    "coord='0'\n",
    "projection='TAN'\n",
    "naxis='2880'\n",
    "cunit='deg'\n",
    "ra='266.417'\n",
    "dec='-29.008'\n",
    "crpix='1440.5'\n",
    "cdelt='2.4e-04'\n",
    "\n",
    "# Run the command\n",
    "imgev \\\n",
    "    EvtFile=${evt_file} \\\n",
    "    Image=${img_file} \\\n",
    "    CoordinateSystem=${coord} Projection=${projection} \\\n",
    "    NAXIS1=${naxis} NAXIS2=${naxis} \\\n",
    "    CUNIT1=${cunit} CUNIT2=${cunit} \\\n",
    "    CRVAL1=${ra} CRVAL2=${dec} \\\n",
    "    CRPIX1=${crpix} CRPIX2=${crpix} \\\n",
    "    CDELT1=-${cdelt} CDELT2=${cdelt} \\\n",
    "    clobber=yes"
   ]
  },
  {
   "cell_type": "markdown",
   "metadata": {},
   "source": [
    "There should now be an image file (`GC_AXIS_100000_img.fits`) whose full window is shown below: \n",
    "\n",
    "<div>\n",
    "<img src=\"img/GC_AXIS_100000_img.png\" width=\"800\"/>\n",
    "</div>\n",
    "\n",
    "The outline of the diffuse emission image from _Chandra_ is visible which suggests that its flux is slighltly higher than it should be.\n",
    "\n",
    "Zooming in, and changing the axes to Galactic coordinates, shows the detail that can be achieved with AXIS in 100 ks of exposure time. This will be the typical depth allocated to this region of the GPS.\n",
    "\n",
    "<div>\n",
    "<img src=\"img/GC_AXIS_100000_img_zoom.png\"/>\n",
    "</div>"
   ]
  },
  {
   "cell_type": "markdown",
   "metadata": {},
   "source": [
    "The figure below shows a zoomed view of the vicinity of Sgr A $^{\\star}$ from _Chandra_ (left panel: 167 ks) compared with the simulated AXIS image (right panel: 100 ks). \n",
    "\n",
    "<div>\n",
    "<img src=\"img/chandra_axis_gc_100ks.png\"/>\n",
    "</div>"
   ]
  },
  {
   "cell_type": "markdown",
   "metadata": {},
   "source": [
    "## 6. GENERATE THE EXPOSURE MAP"
   ]
  },
  {
   "cell_type": "markdown",
   "metadata": {},
   "source": [
    "The `SIXTE` tool `exposure_map` can create an exposure map using the XML and vignetting files, and other parameters.\n",
    "\n",
    "Edit and run the script `make_exposure.sh` in a `SIXTE`-initialized terminal:"
   ]
  },
  {
   "cell_type": "code",
   "execution_count": null,
   "metadata": {
    "vscode": {
     "languageId": "shellscript"
    }
   },
   "outputs": [],
   "source": [
    "#!/bin/bash\n",
    "\n",
    "# Input parameters\n",
    "ra='266.417'\n",
    "dec='-29.008'\n",
    "roll='75.306'\n",
    "vig_file='/Users/arash/astro/heasoft/sixte/share/sixte/instruments/axis/sixte_calibration_files/axis_vignetting_20230821.fits'\n",
    "xml_file='/Users/arash/astro/heasoft/sixte/share/sixte/instruments/axis/axis_baseline_all_chips.xml'\n",
    "att_file='GC_AXIS_100000_att.fits'\n",
    "exp_file='GC_AXIS_100000_exp.fits'\n",
    "t_exp='100000'\n",
    "t_start='0'\n",
    "dt='1000'\n",
    "coord='0'\n",
    "projection='TAN'\n",
    "naxis='2880'\n",
    "cunit='deg'\n",
    "crpix='1440.5'\n",
    "cdelt='2.4e-04'\n",
    "\n",
    "# Run the command\n",
    "exposure_map \\\n",
    "    RA=${ra} Dec=${dec} rollangle=${roll} \\\n",
    "    Vignetting=${vig_file} \\\n",
    "    XMLFile=${xml_file} \\\n",
    "    Attitude=${att_file} \\\n",
    "    Exposuremap=${exp_file} \\\n",
    "    TSTART=${t_start} timespan=${t_exp} dt=${dt} \\\n",
    "    CoordinateSystem=${coord} projection_type=${projection} \\\n",
    "    NAXIS1=${naxis} NAXIS2=${naxis} \\\n",
    "    CUNIT1=${cunit} CUNIT2=${cunit} \\\n",
    "    CRVAL1=${ra} CRVAL2=${dec} \\\n",
    "    CRPIX1=${crpix} CRPIX2=${crpix} \\\n",
    "    CDELT1=-${cdelt} CDELT2=${cdelt} \\\n",
    "    clobber=yes\n"
   ]
  },
  {
   "cell_type": "markdown",
   "metadata": {},
   "source": [
    "There should now be an exposure map (`GC_AXIS_100000_exp.fits`) as shown below:\n",
    "\n",
    "<div>\n",
    "<img src=\"img/GC_AXIS_100000_exp.png\" width=\"500\"/>\n",
    "</div>"
   ]
  },
  {
   "cell_type": "markdown",
   "metadata": {},
   "source": [
    "## 7. APPENDIX"
   ]
  },
  {
   "cell_type": "markdown",
   "metadata": {},
   "source": [
    "### 7.1. GENERATE IMAGES OF DIFFERENT BANDS\n",
    "\n",
    "It is assumed that all steps have been performed up to, and including, the creation of an events file in Section 4. \n",
    "\n",
    "We seek to create an RGB-like image for the AXIS simulation, similar to the publicly-available 3-color _Chandra_ image of Baganoff et al. (2009) as seen in Section 1.\n",
    "\n",
    "Using the `HEAsoft` tool `fv`, open the RMF (`axis_ccd_20221101.rmf`) and verify the keV-to-PHA correspondence shown below:\n",
    "\n",
    "* R-color image: [0.5; 3.3) keV; PHA [40; 320) \n",
    "\n",
    "* G-color image: [3.3; 4.7) keV; PHA [320; 460)\n",
    "\n",
    "* B-color image: [4.7; 8] keV; PHA [460; 790)\n",
    "\n",
    "The `HEAsoft` tool `ftcopy` will make a copy of the simulated events file (`GC_AXIS_100000_evt.fits`), while limiting the energy channels to the range of `pha_min` and `pha_max`.\n",
    "\n",
    "Edit the following commands and paste them into a `HEAsoft`-initialized terminal:"
   ]
  },
  {
   "cell_type": "code",
   "execution_count": null,
   "metadata": {
    "vscode": {
     "languageId": "shellscript"
    }
   },
   "outputs": [],
   "source": [
    "ftcopy \\\n",
    "    infile='GC_AXIS_100000_evt.fits[EVENTS][PHA >= 40 && PHA < 320]' \\\n",
    "    outfile='GC_AXIS_100000_evt_R.fits' \\\n",
    "    clobber=yes\n",
    "\n",
    "ftcopy \\\n",
    "    infile='GC_AXIS_100000_evt.fits[EVENTS][PHA >= 320 && PHA < 460]' \\\n",
    "    outfile='GC_AXIS_100000_evt_G.fits' \\\n",
    "    clobber=yes\n",
    "\n",
    "ftcopy \\\n",
    "    infile='GC_AXIS_100000_evt.fits[EVENTS][PHA >= 460 && PHA < 790]' \\\n",
    "    outfile='GC_AXIS_100000_evt_B.fits' \\\n",
    "    clobber=yes"
   ]
  },
  {
   "cell_type": "markdown",
   "metadata": {},
   "source": [
    "There should now be three new events files from which to make a \"color\" image: \n",
    "\n",
    "- `GC_AXIS_100000_evt_R.fits`\n",
    "\n",
    "- `GC_AXIS_100000_evt_G.fits`\n",
    "\n",
    "- `GC_AXIS_100000_evt_B.fits`\n",
    "\n",
    "Edit the following commands and paste them into a `SIXTE`-initialized terminal:"
   ]
  },
  {
   "cell_type": "code",
   "execution_count": null,
   "metadata": {
    "vscode": {
     "languageId": "shellscript"
    }
   },
   "outputs": [],
   "source": [
    "export target='GC'\n",
    "export inst='AXIS'\n",
    "export t_exp='100000'\n",
    "export ra='266.417'\n",
    "export dec='-29.008'\n",
    "export naxis='2880'\n",
    "export crpix='1440.5'\n",
    "export cdelt='2.4e-04'\n",
    "\n",
    "imgev \\\n",
    "    EvtFile=${target}_${inst}_${t_exp}_evt_R.fits \\\n",
    "    Image=${target}_${inst}_${t_exp}_img_R.fits \\\n",
    "    CoordinateSystem=0 Projection=TAN \\\n",
    "    NAXIS1=${naxis} NAXIS2=${naxis} \\\n",
    "    CUNIT1=deg CUNIT2=deg \\\n",
    "    CRVAL1=${ra} CRVAL2=${dec} \\\n",
    "    CRPIX1=${crpix} CRPIX2=${crpix} \\\n",
    "    CDELT1=-${cdelt} CDELT2=${cdelt} \\\n",
    "    clobber=yes\n",
    "\n",
    "imgev \\\n",
    "    EvtFile=${target}_${inst}_${t_exp}_evt_G.fits \\\n",
    "    Image=${target}_${inst}_${t_exp}_img_G.fits \\\n",
    "    CoordinateSystem=0 Projection=TAN \\\n",
    "    NAXIS1=${naxis} NAXIS2=${naxis} \\\n",
    "    CUNIT1=deg CUNIT2=deg \\\n",
    "    CRVAL1=${ra} CRVAL2=${dec} \\\n",
    "    CRPIX1=${crpix} CRPIX2=${crpix} \\\n",
    "    CDELT1=-${cdelt} CDELT2=${cdelt} \\\n",
    "    clobber=yes\n",
    "\n",
    "imgev \\\n",
    "    EvtFile=${target}_${inst}_${t_exp}_evt_B.fits \\\n",
    "    Image=${target}_${inst}_${t_exp}_img_B.fits \\\n",
    "    CoordinateSystem=0 Projection=TAN \\\n",
    "    NAXIS1=${naxis} NAXIS2=${naxis} \\\n",
    "    CUNIT1=deg CUNIT2=deg \\\n",
    "    CRVAL1=${ra} CRVAL2=${dec} \\\n",
    "    CRPIX1=${crpix} CRPIX2=${crpix} \\\n",
    "    CDELT1=-${cdelt} CDELT2=${cdelt} \\\n",
    "    clobber=yes\n"
   ]
  },
  {
   "cell_type": "markdown",
   "metadata": {},
   "source": [
    "This creates 3 new image files from which to make a \"color\" image: \n",
    "\n",
    "- `GC_AXIS_100000_img_R.fits`\n",
    "\n",
    "- `GC_AXIS_100000_img_G.fits`\n",
    "\n",
    "- `GC_AXIS_100000_img_B.fits`\n",
    "\n",
    "These images can be loaded into `DS9`:"
   ]
  },
  {
   "cell_type": "code",
   "execution_count": null,
   "metadata": {
    "vscode": {
     "languageId": "shellscript"
    }
   },
   "outputs": [],
   "source": [
    "ds9 -rgb -red GC_AXIS_100000_img_R.fits \\\n",
    "    -green GC_AXIS_100000_img_G.fits \\\n",
    "    -blue GC_AXIS_100000_img_B.fits &"
   ]
  },
  {
   "cell_type": "markdown",
   "metadata": {},
   "source": [
    "<div>\n",
    "<img src=\"img/GC_AXIS_100000_img_RGB.png\"/>\n",
    "</div>"
   ]
  },
  {
   "cell_type": "markdown",
   "metadata": {},
   "source": [
    "### 7.2. FIND SIGNIFICANT DETECTIONS WITH WAVDETECT"
   ]
  },
  {
   "cell_type": "markdown",
   "metadata": {},
   "source": [
    "It is assumed that all steps have been performed up to, and including, the creation of an image and an exposure map in Sections 5-6. \n",
    "\n",
    "In order to detect sources in the image with the `CIAO` tool `wavdetect`, we first need to create a PSF file that has the same dimensions as the image, with a PSF-radius of 1.25 $^{\\prime\\prime}$ that stays constant across the field.\n",
    "\n",
    "Edit the following commands and paste them into a `CIAO`-initialized terminal:"
   ]
  },
  {
   "cell_type": "code",
   "execution_count": null,
   "metadata": {
    "vscode": {
     "languageId": "shellscript"
    }
   },
   "outputs": [],
   "source": [
    "export prefix='GC_AXIS_100000'\n",
    "export psf_size='1.25'\n",
    "\n",
    "punlearn dmimgcalc\n",
    "\n",
    "dmimgcalc ${prefix}_img.fits none ${prefix}_psf.fits op=\"imgout=((img1*0)+${psf_size})\" clobber=yes\n",
    "dmhedit ${prefix}_psf.fits none add BUNIT \"arcsec\""
   ]
  },
  {
   "cell_type": "markdown",
   "metadata": {},
   "source": [
    "There should now be a PSF file called `GC_AXIS_100000_psf.fits`.\n",
    "\n",
    "We can now run `wavdetect` to help detect sources in the image (`GC_AXIS_100000_img.fits`).\n",
    "\n",
    "Edit the following commands and paste them into a `CIAO`-initialized terminal:"
   ]
  },
  {
   "cell_type": "code",
   "execution_count": null,
   "metadata": {
    "vscode": {
     "languageId": "shellscript"
    }
   },
   "outputs": [],
   "source": [
    "export prefix='GC_AXIS_100000'\n",
    "\n",
    "punlearn wavdetect\n",
    "\n",
    "wavdetect \\\n",
    " infile=${prefix}_img.fits \\\n",
    " outfile=${prefix}_wavsrc.fits \\\n",
    " scellfile=${prefix}_scell.fits \\\n",
    " imagefile=${prefix}_wavimg.fits \\\n",
    " defnbkgfile=${prefix}_wavnbgd.fits \\\n",
    " psffile=${prefix}_psf.fits \\\n",
    " expfile=${prefix}_exp.fits \\\n",
    " regfile=${prefix}_wavsrc.reg \\\n",
    " scales=\"1.0 2.0 4.0 8.0 16.0\" \\\n",
    " clobber=yes"
   ]
  },
  {
   "cell_type": "markdown",
   "metadata": {},
   "source": [
    "The files `GC_AXIS_100000_wavsrc.fits` and `GC_AXIS_100000_wavsrc.reg` contain the list of detected sources and their region file.\n",
    "\n",
    "Use the `HEAsoft` tools `ftselect` to extract source detections above a given significance (e.g., 3), and `ftconvert` to dump the coordinates into a TXT file, which can be easily converted to a region file. "
   ]
  },
  {
   "cell_type": "code",
   "execution_count": null,
   "metadata": {
    "vscode": {
     "languageId": "shellscript"
    }
   },
   "outputs": [],
   "source": [
    "export prefix='GC_AXIS_100000'\n",
    "export min_sig='3'\n",
    "\n",
    "ftselect ${prefix}_wavsrc.fits temp.fits 'SRC_SIGNIFICANCE >= ${min_sig}' clobber=yes\n",
    "\n",
    "ftconvert temp.fits ${prefix}_wavsrc_sig${min_sig}.txt RA,DEC - clobber=y"
   ]
  },
  {
   "cell_type": "markdown",
   "metadata": {},
   "source": [
    "The image below shows the simulated AXIS image and the `wavdetect`-generated outlines of detected source regions for the inner GC:\n",
    "\n",
    "<div>\n",
    "<img src=\"img/GC_AXIS_100000_img_wavsrc.png\"/>\n",
    "</div>\n",
    "\n",
    "The image below presents shows the simulated AXIS image as well as the list of Muno et al. (2009) _Chandra_ sources from 2 Ms of exposure time (magenta crosses), and sources detected with a significance above 3 $\\sigma$ by AXIS after 100 ks of exposure time (yellow circles):\n",
    "\n",
    "<div>\n",
    "<img src=\"img/GC_AXIS_100000_img_zoom_3sig.png\"/>\n",
    "</div>"
   ]
  },
  {
   "cell_type": "markdown",
   "metadata": {},
   "source": [
    "### 7.3. EXTRACT SOURCE SPECTRA\n",
    "\n",
    "It is assumed that all steps have been performed up to, and including, the creation of an image and an exposure map in Sections 5-6. \n",
    "\n",
    "First, we create source and background extraction regions for a bright on-axis source:\n",
    "\n",
    "* CXOU J174607.4-285951: (266.53122,-28.99759)"
   ]
  },
  {
   "cell_type": "markdown",
   "metadata": {},
   "source": [
    "The `src_extract.reg` file has the following lines:"
   ]
  },
  {
   "cell_type": "code",
   "execution_count": null,
   "metadata": {
    "vscode": {
     "languageId": "shellscript"
    }
   },
   "outputs": [],
   "source": [
    "# Region file format: DS9 version 4.1\n",
    "global color=green width=1 \n",
    "fk5\n",
    "circle(266.53122,-28.99759,5.0\")"
   ]
  },
  {
   "cell_type": "markdown",
   "metadata": {},
   "source": [
    "The `bkg_extract.reg` file has the following lines:"
   ]
  },
  {
   "cell_type": "code",
   "execution_count": null,
   "metadata": {
    "vscode": {
     "languageId": "shellscript"
    }
   },
   "outputs": [],
   "source": [
    "# Region file format: DS9 version 4.1\n",
    "global color=green width=1 \n",
    "fk5\n",
    "annulus(266.53122,-28.99759,5.0\",10.0\")\n"
   ]
  },
  {
   "cell_type": "markdown",
   "metadata": {},
   "source": [
    "We will use the `SIXTE` tool `makespec` to extract the source and background spectra from the events file.\n",
    "\n",
    "Before doing so, we must add physical detector coordinates (_x_,_y_) to the events file.\n",
    "\n",
    "This is done by the `SIXTE` tool `radec2xy`. \n",
    "\n",
    "Edit the following commands and paste them into a `SIXTE`-initialized terminal:"
   ]
  },
  {
   "cell_type": "code",
   "execution_count": null,
   "metadata": {
    "vscode": {
     "languageId": "shellscript"
    }
   },
   "outputs": [],
   "source": [
    "export prefix='GC_AXIS_100000'\n",
    "export ra='266.417'\n",
    "export dec='-29.008'\n",
    "\n",
    "radec2xy \\\n",
    "EvtFile=${prefix}_evt.fits \\\n",
    "projection=TAN \\\n",
    "RefRA=${ra} \\\n",
    "RefDec=${dec}"
   ]
  },
  {
   "cell_type": "markdown",
   "metadata": {},
   "source": [
    "You can verify, with the HEAsoft tool `fv`, that the events file (`GC_AXIS_100000_evt.fits`) now includes columns for _x_ and _y_ detector pixel coordinates.\n",
    "\n",
    "Edit the following commands and paste them into a `SIXTE`-initialized terminal; this will call the `SIXTE` tool `makespec` which extracts source and background spectra for the regions made earlier:"
   ]
  },
  {
   "cell_type": "code",
   "execution_count": null,
   "metadata": {
    "vscode": {
     "languageId": "shellscript"
    }
   },
   "outputs": [],
   "source": [
    "export evt_file='GC_AXIS_100000_evt.fits'\n",
    "export src_reg='src_extract.reg'\n",
    "export src_spec='src_spec.pha'\n",
    "export bkg_reg='bkg_extract.reg'\n",
    "export bkg_spec='bkg_spec.pha'\n",
    "export sixte_loc='/Users/arash/astro/heasoft/sixte/share/sixte/instruments/axis/sixte_calibration_files'\n",
    "export rsp_file='${sixte_loc}/axis_ccd_20221101.rmf'\n",
    "export arf_file='${sixte_loc}/axis_onaxis_20230701.arf'\n",
    "\n",
    "makespec \\\n",
    "    EvtFile=${evt_file} \\\n",
    "    Spectrum=${src_spec} \\\n",
    "    EventFilter=\"regfilter(\\\"${src_reg}\\\")\"  \\\n",
    "    RSPPath=${sixte_loc} \\\n",
    "    usepha=true \\\n",
    "    clobber=yes\n",
    "\n",
    "makespec \\\n",
    "    EvtFile=${evt_file} \\\n",
    "    Spectrum=${bkg_spec} \\\n",
    "    EventFilter=\"regfilter(\\\"${bkg_reg}\\\")\" \\\n",
    "    RSPPath=${sixte_loc} \\\n",
    "    usepha=true \\\n",
    "    clobber=yes"
   ]
  },
  {
   "cell_type": "markdown",
   "metadata": {},
   "source": [
    "There should now be two spectral files; one for the source and one for the background:\n",
    "\n",
    "* `src_spec.pha`\n",
    "\n",
    "* `bkg_spec.pha`\n",
    "\n",
    "The `HEAsoft` tool `grppha` will rebin these source and background spectra to a minimum of 20 cts/bin to permit $\\chi^{2}$ statistics, and then group these spectra with the response files (`axis_ccd_20221101.rmf` and `axis_onaxis_20230701.arf`).\n",
    "\n",
    "Note that the background spectrum needs to be scaled by a factor of 0.333 given its larger area compared with the source extraction region.\n",
    "\n",
    "Edit the following commands and paste them into a `HEAsoft`-initialized terminal:"
   ]
  },
  {
   "cell_type": "code",
   "execution_count": null,
   "metadata": {
    "vscode": {
     "languageId": "shellscript"
    }
   },
   "outputs": [],
   "source": [
    "export evt_file='GC_AXIS_100000_evt.fits'\n",
    "export src_spec='src_spec.pha'\n",
    "export bkg_spec='bkg_spec.pha'\n",
    "export rsp_file='/Users/arash/astro/heasoft/sixte/share/sixte/instruments/axis/sixte_calibration_files/axis_ccd_20221101.rmf'\n",
    "export arf_file='/Users/arash/astro/heasoft/sixte/share/sixte/instruments/axis/sixte_calibration_files/axis_onaxis_20230701.arf'\n",
    "export min_cts='20'\n",
    "export back_scale='0.333'\n",
    "\n",
    "export grp_spec='src_spec_'${min_cts}'cts.pha'\n",
    "\n",
    "grppha \\\n",
    "    infile=${src_spec} \\\n",
    "    outfile=${grp_spec} \\\n",
    "    comm=\"group min ${min_cts} & chkey BACKFILE ${bkg_spec} & chkey BACKSCAL ${back_scale} & chkey RESPFILE ${rsp_file} & chkey ANCRFILE ${arf_file} & exit\" \\\n",
    "    clobber=Y\n"
   ]
  },
  {
   "cell_type": "markdown",
   "metadata": {},
   "source": [
    "There should now be a grouped spectral file (`src_spec_20cts.pha`) which can be loaded for analysis in `Xspec`."
   ]
  },
  {
   "cell_type": "markdown",
   "metadata": {},
   "source": [
    "### 7.4. REPROCESS CHANDRA IMAGES\n",
    "\n",
    "Download and reprocess the _Chandra_ observation to create an image of real data that can be compared with that of the AXIS simulation.\n",
    "\n",
    "Edit the following commands and paste them into a `CIAO`-initialized terminal:"
   ]
  },
  {
   "cell_type": "code",
   "execution_count": null,
   "metadata": {
    "vscode": {
     "languageId": "shellscript"
    }
   },
   "outputs": [],
   "source": [
    "download_chandra_obsid 3392\n",
    "chandra_repro 3392 outdir=repro\n",
    "\n",
    "fluximage repro/acisf03392_repro_evt2.fits repro/chandra_3392_img binsize=1 clobber=yes"
   ]
  },
  {
   "cell_type": "code",
   "execution_count": null,
   "metadata": {
    "vscode": {
     "languageId": "shellscript"
    }
   },
   "outputs": [],
   "source": [
    "ds9 repro/acisf03392_repro_evt2.fits GC_AXIS_100000_img.fits &"
   ]
  },
  {
   "cell_type": "markdown",
   "metadata": {},
   "source": [
    "The figure below shows a zoomed view of the vicinity of Sgr A $^{\\star}$ from _Chandra_ (left panel: 167 ks) compared with the simulated AXIS image (right panel: 100 ks). \n",
    "\n",
    "<div>\n",
    "<img src=\"img/chandra_axis_gc_100ks.png\"/>\n",
    "</div>"
   ]
  },
  {
   "cell_type": "markdown",
   "metadata": {},
   "source": []
  }
 ],
 "metadata": {
  "language_info": {
   "name": "python"
  }
 },
 "nbformat": 4,
 "nbformat_minor": 2
}
